{
 "cells": [
  {
   "cell_type": "markdown",
   "metadata": {},
   "source": [
    "# AcademicConnect\n",
    "\n",
    "The goal of this project is to create a recommendation system that recommend students to students, students to professors, professors to professors, and professors to students. "
   ]
  },
  {
   "cell_type": "markdown",
   "metadata": {},
   "source": [
    "### Designing The Model"
   ]
  },
  {
   "cell_type": "code",
   "execution_count": 197,
   "metadata": {},
   "outputs": [],
   "source": [
    "### Academic Conntect\n",
    "import pandas as pd\n",
    "import tensorflow as tf\n",
    "import numpy as np\n",
    "from transformers import TFAutoModel, AutoTokenizer\n",
    "import pickle\n"
   ]
  },
  {
   "cell_type": "code",
   "execution_count": 198,
   "metadata": {},
   "outputs": [
    {
     "data": {
      "text/html": [
       "<div>\n",
       "<style scoped>\n",
       "    .dataframe tbody tr th:only-of-type {\n",
       "        vertical-align: middle;\n",
       "    }\n",
       "\n",
       "    .dataframe tbody tr th {\n",
       "        vertical-align: top;\n",
       "    }\n",
       "\n",
       "    .dataframe thead th {\n",
       "        text-align: right;\n",
       "    }\n",
       "</style>\n",
       "<table border=\"1\" class=\"dataframe\">\n",
       "  <thead>\n",
       "    <tr style=\"text-align: right;\">\n",
       "      <th></th>\n",
       "      <th>Student GUID</th>\n",
       "      <th>Name</th>\n",
       "      <th>Research Interests</th>\n",
       "      <th>University Field</th>\n",
       "    </tr>\n",
       "  </thead>\n",
       "  <tbody>\n",
       "    <tr>\n",
       "      <th>0</th>\n",
       "      <td>c1c5fc27-048a-4fad-b32a-57b6613f5c6d</td>\n",
       "      <td>Daniel Cain</td>\n",
       "      <td>Photonics, Cosmology, Theoretical Physics, Exp...</td>\n",
       "      <td>Physics</td>\n",
       "    </tr>\n",
       "    <tr>\n",
       "      <th>1</th>\n",
       "      <td>ead3d7a5-bddc-4ad1-ab55-4db006731802</td>\n",
       "      <td>Amy Potter</td>\n",
       "      <td>Cognitive Psychology, Developmental Psychology...</td>\n",
       "      <td>Psychology</td>\n",
       "    </tr>\n",
       "    <tr>\n",
       "      <th>2</th>\n",
       "      <td>c6f1e6d1-21fe-4daa-a022-ff9e0f4fd957</td>\n",
       "      <td>Jessica Collins</td>\n",
       "      <td>Materials Science, Physical Chemistry, Inorgan...</td>\n",
       "      <td>Chemistry</td>\n",
       "    </tr>\n",
       "    <tr>\n",
       "      <th>3</th>\n",
       "      <td>3e19f76f-46b4-46c4-a489-36053fd8d79e</td>\n",
       "      <td>Maria Singh</td>\n",
       "      <td>Economic History, History of Science, Military...</td>\n",
       "      <td>History</td>\n",
       "    </tr>\n",
       "    <tr>\n",
       "      <th>4</th>\n",
       "      <td>31bbb063-8dae-4e81-97c4-456e8df9af33</td>\n",
       "      <td>James Thomas</td>\n",
       "      <td>Geometry, Mathematical Physics, Statistics, Al...</td>\n",
       "      <td>Mathematics</td>\n",
       "    </tr>\n",
       "  </tbody>\n",
       "</table>\n",
       "</div>"
      ],
      "text/plain": [
       "                           Student GUID             Name  \\\n",
       "0  c1c5fc27-048a-4fad-b32a-57b6613f5c6d      Daniel Cain   \n",
       "1  ead3d7a5-bddc-4ad1-ab55-4db006731802       Amy Potter   \n",
       "2  c6f1e6d1-21fe-4daa-a022-ff9e0f4fd957  Jessica Collins   \n",
       "3  3e19f76f-46b4-46c4-a489-36053fd8d79e      Maria Singh   \n",
       "4  31bbb063-8dae-4e81-97c4-456e8df9af33     James Thomas   \n",
       "\n",
       "                                  Research Interests University Field  \n",
       "0  Photonics, Cosmology, Theoretical Physics, Exp...          Physics  \n",
       "1  Cognitive Psychology, Developmental Psychology...       Psychology  \n",
       "2  Materials Science, Physical Chemistry, Inorgan...        Chemistry  \n",
       "3  Economic History, History of Science, Military...          History  \n",
       "4  Geometry, Mathematical Physics, Statistics, Al...      Mathematics  "
      ]
     },
     "execution_count": 198,
     "metadata": {},
     "output_type": "execute_result"
    }
   ],
   "source": [
    "# Read university dataset \n",
    "uni_data = pd.read_excel(\"university_data.xlsx\")\n",
    "uni_data.head()"
   ]
  },
  {
   "cell_type": "code",
   "execution_count": 199,
   "metadata": {},
   "outputs": [],
   "source": [
    "# Create a raw version on university_data to be used later for testing single input\n",
    "uni_data_raw = pd.read_excel(\"university_data.xlsx\")\n"
   ]
  },
  {
   "cell_type": "code",
   "execution_count": 200,
   "metadata": {},
   "outputs": [],
   "source": [
    "from sklearn.preprocessing import LabelEncoder\n",
    "\n",
    "# Cleaning up Research Interests feature\n",
    "uni_data['Research Interests'] = uni_data['Research Interests'].str.lower().str.replace(r'[^\\w\\s]+', '')\n",
    "\n",
    "# Cleaning up \"University Field\" feature\n",
    "# uni_data[\"University Field\"] = uni_data[\"University Field\"].str.lower().str.replace(r'[^\\w\\s]+', '')\n",
    "# uni_data.head()\n",
    "encoder = LabelEncoder()\n",
    "uni_data['University Field'] = encoder.fit_transform(uni_data['University Field'])"
   ]
  },
  {
   "cell_type": "code",
   "execution_count": 201,
   "metadata": {},
   "outputs": [],
   "source": [
    "# Save the encoder\n",
    "with open('models/encoder.pkl', 'wb') as f:\n",
    "    pickle.dump(encoder, f)"
   ]
  },
  {
   "cell_type": "code",
   "execution_count": 202,
   "metadata": {},
   "outputs": [
    {
     "name": "stderr",
     "output_type": "stream",
     "text": [
      "Some weights of the PyTorch model were not used when initializing the TF 2.0 model TFBertModel: ['cls.predictions.bias', 'cls.predictions.transform.dense.bias', 'cls.seq_relationship.bias', 'cls.predictions.transform.LayerNorm.weight', 'cls.seq_relationship.weight', 'cls.predictions.transform.dense.weight', 'cls.predictions.transform.LayerNorm.bias']\n",
      "- This IS expected if you are initializing TFBertModel from a PyTorch model trained on another task or with another architecture (e.g. initializing a TFBertForSequenceClassification model from a BertForPreTraining model).\n",
      "- This IS NOT expected if you are initializing TFBertModel from a PyTorch model that you expect to be exactly identical (e.g. initializing a TFBertForSequenceClassification model from a BertForSequenceClassification model).\n",
      "All the weights of TFBertModel were initialized from the PyTorch model.\n",
      "If your task is similar to the task the model of the checkpoint was trained on, you can already use TFBertModel for predictions without further training.\n"
     ]
    }
   ],
   "source": [
    "from transformers import TFAutoModel, AutoTokenizer\n",
    "import tensorflow as tf\n",
    "\n",
    "tokenizer = AutoTokenizer.from_pretrained('bert-base-uncased')\n",
    "model = TFAutoModel.from_pretrained('bert-base-uncased')\n",
    "\n",
    "# Define a function to tokenize the \"Research Interests\" and run the tokens through the model\n",
    "def embed_text(texts):\n",
    "    inputs = tokenizer(texts.tolist(), padding=True, truncation=True, max_length=512, return_tensors=\"tf\")\n",
    "    outputs = model(inputs)\n",
    "    return outputs.last_hidden_state[:, 0, :].numpy()\n",
    "\n",
    "# Embed 'Research Interests'\n",
    "embeddings = embed_text(uni_data['Research Interests'])"
   ]
  },
  {
   "cell_type": "code",
   "execution_count": 203,
   "metadata": {},
   "outputs": [
    {
     "name": "stderr",
     "output_type": "stream",
     "text": [
      "/Users/neilmacphee/Code/Personal/AcademicConnect/myenv/lib/python3.11/site-packages/transformers/generation/tf_utils.py:465: UserWarning: `seed_generator` is deprecated and will be removed in a future version.\n",
      "  warnings.warn(\"`seed_generator` is deprecated and will be removed in a future version.\", UserWarning)\n"
     ]
    }
   ],
   "source": [
    "# Save tokenizer\n",
    "with open('models/tokenizer.pkl', 'wb') as f:\n",
    "    pickle.dump(tokenizer, f)\n",
    "\n",
    "# Save model\n",
    "with open('models/model.pkl', 'wb') as f:\n",
    "    pickle.dump(model, f)\n",
    "\n",
    "# Save enbeddings\n",
    "with open('models/embeddings.pkl', 'wb') as f:\n",
    "    pickle.dump(embeddings, f)"
   ]
  },
  {
   "cell_type": "code",
   "execution_count": 204,
   "metadata": {},
   "outputs": [
    {
     "data": {
      "text/plain": [
       "array([[ 0.35122058,  0.2672667 , -0.17760639, ..., -0.17172086,\n",
       "        -0.18274336,  0.6307969 ],\n",
       "       [ 0.13852608,  0.29572952, -0.7052915 , ..., -0.30475768,\n",
       "        -0.17106837,  0.39814553],\n",
       "       [ 0.34270325,  0.21112193, -0.3461482 , ..., -0.23749661,\n",
       "        -0.01269638,  0.6580549 ],\n",
       "       ...,\n",
       "       [-0.03102134, -0.03761458, -0.58762026, ..., -0.3957855 ,\n",
       "        -0.20575732,  0.42250288],\n",
       "       [ 0.49557954,  0.16372317, -0.3434162 , ..., -0.19094762,\n",
       "         0.10214731,  0.82497257],\n",
       "       [ 0.49353784,  0.18878661, -0.33193555, ..., -0.21652126,\n",
       "        -0.00542787,  0.8533199 ]], dtype=float32)"
      ]
     },
     "execution_count": 204,
     "metadata": {},
     "output_type": "execute_result"
    }
   ],
   "source": [
    "embeddings"
   ]
  },
  {
   "cell_type": "code",
   "execution_count": 205,
   "metadata": {},
   "outputs": [],
   "source": [
    "from sklearn.preprocessing import StandardScaler\n",
    "\n",
    "# Scale embeddings and the encoded field\n",
    "e_scaler = StandardScaler()\n",
    "f_scaler = StandardScaler()\n",
    "\n",
    "embeddings_scaled = e_scaler.fit_transform(embeddings)\n",
    "field_scaled = f_scaler.fit_transform(uni_data[['University Field']])\n",
    "\n",
    "# Combine embeddings with the university field\n",
    "combined_features = np.hstack((embeddings_scaled, field_scaled))"
   ]
  },
  {
   "cell_type": "code",
   "execution_count": 206,
   "metadata": {},
   "outputs": [
    {
     "data": {
      "text/plain": [
       "array([[ 0.75538945,  0.65054816,  1.11638272, ..., -0.42444006,\n",
       "        -0.2310688 ,  1.20325223],\n",
       "       [-0.3273685 ,  0.83481163, -1.62190056, ..., -0.35198435,\n",
       "        -1.22975802,  1.55066157],\n",
       "       [ 0.71203053,  0.28707665,  0.2417793 , ...,  0.63088262,\n",
       "        -0.11406002, -1.22861311],\n",
       "       ...,\n",
       "       [-1.19047892, -1.32320082, -1.01127648, ..., -0.56726623,\n",
       "        -1.12520063, -0.88120378],\n",
       "       [ 1.49027371, -0.01977478,  0.25595617, ...,  1.34361005,\n",
       "         0.602458  , -0.18638511],\n",
       "       [ 1.47988009,  0.14248163,  0.31553206, ...,  0.67599148,\n",
       "         0.72414291, -0.18638511]])"
      ]
     },
     "execution_count": 206,
     "metadata": {},
     "output_type": "execute_result"
    }
   ],
   "source": [
    "# Look at combined_features\n",
    "combined_features"
   ]
  },
  {
   "cell_type": "code",
   "execution_count": 207,
   "metadata": {},
   "outputs": [],
   "source": [
    "from sklearn.metrics.pairwise import cosine_similarity\n",
    "\n",
    "# Calculate the cosine similarity matrix\n",
    "similarity_matrix = cosine_similarity(combined_features)\n",
    "\n",
    "# Create a DataFrame to view similarity scores\n",
    "similarity_df = pd.DataFrame(similarity_matrix, index=uni_data['Student GUID'], columns=uni_data['Student GUID'])"
   ]
  },
  {
   "cell_type": "code",
   "execution_count": 208,
   "metadata": {},
   "outputs": [],
   "source": [
    "# Create a function to get the 5 top matches, excluding the student being examined\n",
    "def get_top_matches(student_guid, similarity_df, uni_data, top_n=5):\n",
    "    scores = similarity_df.loc[student_guid]\n",
    "    top_matches = scores.sort_values(ascending=False)[1:top_n+1]  # exclude matching with themselves\n",
    "    df = pd.DataFrame(uni_data)\n",
    "    results = df[df['Student GUID'].isin(top_matches.index)]\n",
    "    results.loc[:, \"Match\"] = top_matches.values\n",
    "    return results"
   ]
  },
  {
   "cell_type": "code",
   "execution_count": 210,
   "metadata": {},
   "outputs": [
    {
     "name": "stderr",
     "output_type": "stream",
     "text": [
      "/var/folders/hj/pypml43n0tnd854pc0cxdp440000gn/T/ipykernel_21831/4083793511.py:7: SettingWithCopyWarning: \n",
      "A value is trying to be set on a copy of a slice from a DataFrame.\n",
      "Try using .loc[row_indexer,col_indexer] = value instead\n",
      "\n",
      "See the caveats in the documentation: https://pandas.pydata.org/pandas-docs/stable/user_guide/indexing.html#returning-a-view-versus-a-copy\n",
      "  results.loc[:, \"Match\"] = top_matches.values\n"
     ]
    },
    {
     "data": {
      "text/html": [
       "<div>\n",
       "<style scoped>\n",
       "    .dataframe tbody tr th:only-of-type {\n",
       "        vertical-align: middle;\n",
       "    }\n",
       "\n",
       "    .dataframe tbody tr th {\n",
       "        vertical-align: top;\n",
       "    }\n",
       "\n",
       "    .dataframe thead th {\n",
       "        text-align: right;\n",
       "    }\n",
       "</style>\n",
       "<table border=\"1\" class=\"dataframe\">\n",
       "  <thead>\n",
       "    <tr style=\"text-align: right;\">\n",
       "      <th></th>\n",
       "      <th>Student GUID</th>\n",
       "      <th>Name</th>\n",
       "      <th>Research Interests</th>\n",
       "      <th>University Field</th>\n",
       "      <th>Match</th>\n",
       "    </tr>\n",
       "  </thead>\n",
       "  <tbody>\n",
       "    <tr>\n",
       "      <th>137</th>\n",
       "      <td>ac2087b4-ef74-4b5e-abad-5302f9d7e368</td>\n",
       "      <td>Michael West</td>\n",
       "      <td>photonics, nuclear physics, astrophysics, expe...</td>\n",
       "      <td>8</td>\n",
       "      <td>0.988040</td>\n",
       "    </tr>\n",
       "    <tr>\n",
       "      <th>1002</th>\n",
       "      <td>adb2fcac-7d96-47ec-8f89-29a6ec92b599</td>\n",
       "      <td>Kurt Jones</td>\n",
       "      <td>photonics, condensed matter physics, cosmology...</td>\n",
       "      <td>8</td>\n",
       "      <td>0.987624</td>\n",
       "    </tr>\n",
       "    <tr>\n",
       "      <th>1837</th>\n",
       "      <td>7aeaf1f2-d2a4-4176-abdf-96212da216d4</td>\n",
       "      <td>Lisa Hogan</td>\n",
       "      <td>photonics, particle physics, condensed matter ...</td>\n",
       "      <td>8</td>\n",
       "      <td>0.984967</td>\n",
       "    </tr>\n",
       "    <tr>\n",
       "      <th>5562</th>\n",
       "      <td>149b3317-e913-4008-bd23-7a2f445b6f0b</td>\n",
       "      <td>Devon Davis</td>\n",
       "      <td>photonics, theoretical physics, astrophysics, ...</td>\n",
       "      <td>8</td>\n",
       "      <td>0.984064</td>\n",
       "    </tr>\n",
       "    <tr>\n",
       "      <th>6853</th>\n",
       "      <td>a70f1a6e-2bc8-4060-b3a4-f0c3045e769c</td>\n",
       "      <td>Samuel Norton</td>\n",
       "      <td>photonics, quantum mechanics, cosmology, astro...</td>\n",
       "      <td>8</td>\n",
       "      <td>0.982235</td>\n",
       "    </tr>\n",
       "  </tbody>\n",
       "</table>\n",
       "</div>"
      ],
      "text/plain": [
       "                              Student GUID           Name  \\\n",
       "137   ac2087b4-ef74-4b5e-abad-5302f9d7e368   Michael West   \n",
       "1002  adb2fcac-7d96-47ec-8f89-29a6ec92b599     Kurt Jones   \n",
       "1837  7aeaf1f2-d2a4-4176-abdf-96212da216d4     Lisa Hogan   \n",
       "5562  149b3317-e913-4008-bd23-7a2f445b6f0b    Devon Davis   \n",
       "6853  a70f1a6e-2bc8-4060-b3a4-f0c3045e769c  Samuel Norton   \n",
       "\n",
       "                                     Research Interests  University Field  \\\n",
       "137   photonics, nuclear physics, astrophysics, expe...                 8   \n",
       "1002  photonics, condensed matter physics, cosmology...                 8   \n",
       "1837  photonics, particle physics, condensed matter ...                 8   \n",
       "5562  photonics, theoretical physics, astrophysics, ...                 8   \n",
       "6853  photonics, quantum mechanics, cosmology, astro...                 8   \n",
       "\n",
       "         Match  \n",
       "137   0.988040  \n",
       "1002  0.987624  \n",
       "1837  0.984967  \n",
       "5562  0.984064  \n",
       "6853  0.982235  "
      ]
     },
     "execution_count": 210,
     "metadata": {},
     "output_type": "execute_result"
    }
   ],
   "source": [
    "# Get top matches for a student/professor\n",
    "top_5 = get_top_matches(uni_data[\"Student GUID\"][0], similarity_df, uni_data)\n",
    "top_5"
   ]
  },
  {
   "cell_type": "code",
   "execution_count": 211,
   "metadata": {},
   "outputs": [
    {
     "data": {
      "text/plain": [
       "'c1c5fc27-048a-4fad-b32a-57b6613f5c6d'"
      ]
     },
     "execution_count": 211,
     "metadata": {},
     "output_type": "execute_result"
    }
   ],
   "source": [
    "uni_data[\"Student GUID\"][0]"
   ]
  },
  {
   "cell_type": "markdown",
   "metadata": {},
   "source": [
    "### Testing comparing a \"new\" student to the dataset"
   ]
  },
  {
   "cell_type": "code",
   "execution_count": 212,
   "metadata": {},
   "outputs": [
    {
     "data": {
      "text/plain": [
       "Student GUID                       a2e9dc4f-0b8c-4b3d-a6ae-8fbb8836e6e8\n",
       "Name                                                        Daniel Cain\n",
       "Research Interests    Photonics, Cosmology, Theoretical Physics, Exp...\n",
       "University Field                                                Physics\n",
       "Name: 0, dtype: object"
      ]
     },
     "execution_count": 212,
     "metadata": {},
     "output_type": "execute_result"
    }
   ],
   "source": [
    "# Make a clone of the first student\n",
    "test_student = uni_data_raw.loc[0,:]\n",
    "# Change the `Student GUID` to a random UID\n",
    "test_student['Student GUID'] = \"a2e9dc4f-0b8c-4b3d-a6ae-8fbb8836e6e8\"\n",
    "test_student"
   ]
  },
  {
   "cell_type": "code",
   "execution_count": 213,
   "metadata": {},
   "outputs": [],
   "source": [
    "# Clean up the data in test_student\n",
    "test_student['Research Interests'] = test_student[\"Research Interests\"].lower().replace(r'[^\\w\\s]+', '')\n",
    "test_student['University Field'] = encoder.transform([test_student['University Field']])"
   ]
  },
  {
   "cell_type": "code",
   "execution_count": 214,
   "metadata": {},
   "outputs": [
    {
     "data": {
      "text/plain": [
       "Student GUID                       a2e9dc4f-0b8c-4b3d-a6ae-8fbb8836e6e8\n",
       "Name                                                        Daniel Cain\n",
       "Research Interests    photonics, cosmology, theoretical physics, exp...\n",
       "University Field                                                      8\n",
       "Name: 0, dtype: object"
      ]
     },
     "execution_count": 214,
     "metadata": {},
     "output_type": "execute_result"
    }
   ],
   "source": [
    "# Check test_student, \"Physics\" should have been encoded as \"8\"\n",
    "test_student"
   ]
  },
  {
   "cell_type": "code",
   "execution_count": 215,
   "metadata": {},
   "outputs": [],
   "source": [
    "# Tokenize and embed the test_student data\n",
    "test_input = tokenizer(test_student[\"Research Interests\"], padding=True, truncation=True, max_length=512, return_tensors=\"tf\")\n",
    "test_output = model(test_input)\n",
    "test_embedding = test_output.last_hidden_state[:, 0, :].numpy()\n"
   ]
  },
  {
   "cell_type": "code",
   "execution_count": 216,
   "metadata": {},
   "outputs": [
    {
     "name": "stderr",
     "output_type": "stream",
     "text": [
      "/Users/neilmacphee/Code/Personal/AcademicConnect/myenv/lib/python3.11/site-packages/sklearn/base.py:493: UserWarning: X does not have valid feature names, but StandardScaler was fitted with feature names\n",
      "  warnings.warn(\n"
     ]
    }
   ],
   "source": [
    "# Scale the embedding and the field features\n",
    "test_embedding_scaled = e_scaler.transform(test_embedding)\n",
    "test_field_scaled = f_scaler.transform([test_student[['University Field']]])\n",
    "\n",
    "# Combine embeddings with scaled field\n",
    "test_student_combined_features = np.hstack((test_embedding_scaled, test_field_scaled))"
   ]
  },
  {
   "cell_type": "code",
   "execution_count": 219,
   "metadata": {},
   "outputs": [],
   "source": [
    "# Calculate cosine similarity between test_student_combined_features and combined_features\n",
    "cos_similarities = cosine_similarity(test_student_combined_features.reshape(1, -1), combined_features)"
   ]
  },
  {
   "cell_type": "code",
   "execution_count": 222,
   "metadata": {},
   "outputs": [
    {
     "data": {
      "text/plain": [
       "1"
      ]
     },
     "execution_count": 222,
     "metadata": {},
     "output_type": "execute_result"
    }
   ],
   "source": [
    "len(cos_similarities)"
   ]
  },
  {
   "cell_type": "code",
   "execution_count": 223,
   "metadata": {},
   "outputs": [],
   "source": [
    "# Find the index of the row with the highest cosine similarity\n",
    "best_match_index = np.argmax(cos_similarities)\n",
    "\n",
    "# Get the best match from combined_features\n",
    "best_match_features = combined_features[best_match_index]\n",
    "\n",
    "# You can also calculate the similarity score with the best match\n",
    "best_similarity_score = cos_similarities[0, best_match_index]\n",
    "\n"
   ]
  },
  {
   "cell_type": "code",
   "execution_count": 231,
   "metadata": {},
   "outputs": [
    {
     "data": {
      "text/plain": [
       "(Student GUID                       c1c5fc27-048a-4fad-b32a-57b6613f5c6d\n",
       " Name                                                        Daniel Cain\n",
       " Research Interests    photonics, cosmology, theoretical physics, exp...\n",
       " University Field                                                      8\n",
       " Name: 0, dtype: object,\n",
       " Student GUID                       a2e9dc4f-0b8c-4b3d-a6ae-8fbb8836e6e8\n",
       " Name                                                        Daniel Cain\n",
       " Research Interests    photonics, cosmology, theoretical physics, exp...\n",
       " University Field                                                      8\n",
       " Name: 0, dtype: object)"
      ]
     },
     "execution_count": 231,
     "metadata": {},
     "output_type": "execute_result"
    }
   ],
   "source": [
    "# Check that the best match lines up\n",
    "uni_data.iloc[best_match_index], test_student"
   ]
  },
  {
   "cell_type": "code",
   "execution_count": null,
   "metadata": {},
   "outputs": [],
   "source": []
  }
 ],
 "metadata": {
  "kernelspec": {
   "display_name": "myenv",
   "language": "python",
   "name": "python3"
  },
  "language_info": {
   "codemirror_mode": {
    "name": "ipython",
    "version": 3
   },
   "file_extension": ".py",
   "mimetype": "text/x-python",
   "name": "python",
   "nbconvert_exporter": "python",
   "pygments_lexer": "ipython3",
   "version": "3.11.4"
  }
 },
 "nbformat": 4,
 "nbformat_minor": 2
}
